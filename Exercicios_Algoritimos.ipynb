{
 "cells": [
  {
   "metadata": {
    "ExecuteTime": {
     "end_time": "2025-08-13T23:07:17.186738Z",
     "start_time": "2025-08-13T23:07:17.174428Z"
    }
   },
   "cell_type": "code",
   "source": [
    "print(\"Olá, Mundo!\")\n",
    "print(\"Sejam bem-vindos ao curso de Algoritimos!\")"
   ],
   "id": "e694466b3326c89c",
   "outputs": [
    {
     "name": "stdout",
     "output_type": "stream",
     "text": [
      "Olá, Mundo!\n",
      "Sejam bem-vindos ao curso de Algoritimos!\n"
     ]
    }
   ],
   "execution_count": 3
  },
  {
   "metadata": {
    "ExecuteTime": {
     "end_time": "2025-08-13T23:08:36.792090Z",
     "start_time": "2025-08-13T23:08:36.776537Z"
    }
   },
   "cell_type": "code",
   "source": [
    "nome = \"Leonardo\"\n",
    "Idade = 32\n",
    "print(\"Nome: \", nome)\n",
    "print(\"Idade: \", Idade)"
   ],
   "id": "158a3166761e6629",
   "outputs": [
    {
     "name": "stdout",
     "output_type": "stream",
     "text": [
      "Nome:  Leonardo\n",
      "Idade:  32\n"
     ]
    }
   ],
   "execution_count": 4
  },
  {
   "metadata": {
    "ExecuteTime": {
     "end_time": "2025-08-13T23:20:37.768893Z",
     "start_time": "2025-08-13T23:20:37.763898Z"
    }
   },
   "cell_type": "code",
   "source": [
    "'''utilizando f-strings'''\n",
    "nome = \"Leonardo\"\n",
    "Idade = 32\n",
    "nome = \"Leonardo\"\n",
    "Idade = 32\n",
    "print(f\"Olá! Seja bem-vindo, {nome} de {Idade}.\")"
   ],
   "id": "94c4651cf5cafd4f",
   "outputs": [
    {
     "name": "stdout",
     "output_type": "stream",
     "text": [
      "Olá! Seja bem-vindo, Leonardo de 32.\n"
     ]
    }
   ],
   "execution_count": 10
  },
  {
   "metadata": {
    "ExecuteTime": {
     "end_time": "2025-08-13T23:30:47.287037Z",
     "start_time": "2025-08-13T23:30:39.272198Z"
    }
   },
   "cell_type": "code",
   "source": [
    "#Entrada de dados: input()\n",
    "nome = input(\"Digite seu nome: \")\n",
    "idade = input(\"Digite sua idade: \")\n",
    "RA = int(\"1051\")\n",
    "\n",
    "print(f\"Caro aluno: {nome}, de {Idade} anos. Seu RA é o: {RA}.\")"
   ],
   "id": "fc9426a0b36b041b",
   "outputs": [
    {
     "name": "stdout",
     "output_type": "stream",
     "text": [
      "Caro aluno: Leonardo, de 32 anos. Seu RA é o: 1051.\n"
     ]
    }
   ],
   "execution_count": 21
  },
  {
   "metadata": {
    "ExecuteTime": {
     "end_time": "2025-08-14T00:16:32.677701Z",
     "start_time": "2025-08-14T00:16:24.883354Z"
    }
   },
   "cell_type": "code",
   "source": [
    "idade = int(input(\"Digite sua idade: \"))\n",
    "altura = float(input(\"Digite sua altura: \"))\n",
    "print(f\"Você tem {idade} anos e {altura} metros de altura.\")"
   ],
   "id": "3e494d8c3f6bb813",
   "outputs": [
    {
     "name": "stdout",
     "output_type": "stream",
     "text": [
      "Você tem 32 anos e 1.75 metros de altura.\n"
     ]
    }
   ],
   "execution_count": 24
  },
  {
   "metadata": {},
   "cell_type": "markdown",
   "source": "EXERCICIOS",
   "id": "51802459882b0921"
  },
  {
   "metadata": {
    "ExecuteTime": {
     "end_time": "2025-08-20T11:30:27.453709Z",
     "start_time": "2025-08-20T11:30:23.170900Z"
    }
   },
   "cell_type": "code",
   "source": [
    "#Salário\n",
    "nome = input(\"Nome do funcionário: \")\n",
    "salario = float(\"2200.00\")\n",
    "print(f\"Boa tarde, {nome}. Seu salário no valor de R${salario} acabou de cair. Aproveite!\")\n"
   ],
   "id": "99a747f2ecf43e4e",
   "outputs": [
    {
     "name": "stdout",
     "output_type": "stream",
     "text": [
      "Boa tarde, Leonardo. Seu salário no valor de R$2200.0 acabou de cair. Aproveite!\n"
     ]
    }
   ],
   "execution_count": 11
  },
  {
   "metadata": {
    "ExecuteTime": {
     "end_time": "2025-08-14T00:30:13.826885Z",
     "start_time": "2025-08-14T00:30:09.357714Z"
    }
   },
   "cell_type": "code",
   "source": [
    "#Calculadora\n",
    "num1 = float(input(\"Digite o primeiro numero: \"))\n",
    "num2 = float(input(\"Digite o segundo numero: \"))\n",
    "\n",
    "Soma = num1 + num2\n",
    "Subtracao = num1 - num2\n",
    "Multiplicacao = num1 * num2\n",
    "Divisao = num1 / num2\n",
    "\n",
    "print(f\"Soma: {Soma}\")\n",
    "print(f\"Subtracao: {Subtracao}\")\n",
    "print(f\"Multiplicacao: {Multiplicacao}\")\n",
    "print(f\"Divisao: {Divisao}\")"
   ],
   "id": "ed8d657833cf1112",
   "outputs": [
    {
     "name": "stdout",
     "output_type": "stream",
     "text": [
      "Soma: 5.0\n",
      "Subtracao: -1.0\n",
      "Multiplicacao: 6.0\n",
      "Divisao: 0.6666666666666666\n"
     ]
    }
   ],
   "execution_count": 33
  },
  {
   "metadata": {
    "ExecuteTime": {
     "end_time": "2025-08-20T11:24:48.499876Z",
     "start_time": "2025-08-20T11:24:39.084834Z"
    }
   },
   "cell_type": "code",
   "source": [
    "#Media\n",
    "num1 = float(input(\"Digite o primeiro numero: \"))\n",
    "num2 = float(input(\"Digite o segundo numero: \"))\n",
    "num3 = float(input(\"Digite o terceiro numero: \"))\n",
    "\n",
    "media = (num1 + num2 + num3) / 3\n",
    "print(f\"Sua média é: {media}.\")\n"
   ],
   "id": "ac66493245e524f1",
   "outputs": [
    {
     "name": "stdout",
     "output_type": "stream",
     "text": [
      "Sua média é: 7.333333333333333.\n"
     ]
    }
   ],
   "execution_count": 4
  },
  {
   "metadata": {
    "ExecuteTime": {
     "end_time": "2025-08-14T00:53:01.850369Z",
     "start_time": "2025-08-14T00:52:57.730514Z"
    }
   },
   "cell_type": "code",
   "source": [
    "#Operadores\n",
    "num = float(input(\"Digite o numero: \"))\n",
    "Dobro = num * 2\n",
    "Terco = num / 3\n",
    "print(f\"O dobro de {num} é {Dobro}.\")\n",
    "print(f\"Um terço de {num} é {Terco}.\")\n"
   ],
   "id": "f03f9873be7a496c",
   "outputs": [
    {
     "name": "stdout",
     "output_type": "stream",
     "text": [
      "O dobro de 10.0 é 20.0.\n",
      "Um terço de 10.0 é 3.3333333333333335.\n"
     ]
    }
   ],
   "execution_count": 1
  },
  {
   "metadata": {
    "ExecuteTime": {
     "end_time": "2025-08-20T11:25:49.290749Z",
     "start_time": "2025-08-20T11:25:44.520474Z"
    }
   },
   "cell_type": "code",
   "source": [
    "#calculo de área de um retangulo\n",
    "\n",
    "base = float(input(\"Digite o base: \"))\n",
    "altura = float(input(\"Digite sua altura: \"))\n",
    "A = base * altura\n",
    "print(f\"A área do retângulo informado é de {A}.\")\n"
   ],
   "id": "97f22e8e6339444d",
   "outputs": [
    {
     "name": "stdout",
     "output_type": "stream",
     "text": [
      "A área do retângulo informado é de 90.0.\n"
     ]
    }
   ],
   "execution_count": 7
  },
  {
   "metadata": {
    "ExecuteTime": {
     "end_time": "2025-08-20T11:25:35.068603Z",
     "start_time": "2025-08-20T11:25:32.152958Z"
    }
   },
   "cell_type": "code",
   "source": [
    "#calculo da area de um quadrado\n",
    "\n",
    "lado = float(input(\"Digite o lado: \"))\n",
    "A = lado * lado\n",
    "print(f\"A áerea de um quadrado é {A}\")\n"
   ],
   "id": "cfe6e5589316d8cf",
   "outputs": [
    {
     "name": "stdout",
     "output_type": "stream",
     "text": [
      "A áerea de um quadrado é 64.0\n"
     ]
    }
   ],
   "execution_count": 6
  },
  {
   "metadata": {
    "ExecuteTime": {
     "end_time": "2025-08-20T11:29:30.548857Z",
     "start_time": "2025-08-20T11:29:26.624333Z"
    }
   },
   "cell_type": "code",
   "source": [
    "#calculo da area de um triangulo\n",
    "A = (base * altura) / 2\n",
    "Base = float(input(\"Digite o base: \"))\n",
    "Altura = float(input(\"Digite sua altura: \"))\n",
    "\n",
    "print(f\"a area do triangulo é de {A}\")"
   ],
   "id": "87ebb9e4bee73c95",
   "outputs": [
    {
     "name": "stdout",
     "output_type": "stream",
     "text": [
      "a area do triangulo é de 45.0\n"
     ]
    }
   ],
   "execution_count": 9
  },
  {
   "metadata": {
    "ExecuteTime": {
     "end_time": "2025-08-20T11:35:36.276954Z",
     "start_time": "2025-08-20T11:35:32.296172Z"
    }
   },
   "cell_type": "code",
   "source": [
    "#Calculo de area de circulo\n",
    "Pi = 3.14159\n",
    "raio = float(input(\"Digite o raio: \"))\n",
    "Area = Pi * (raio * raio)\n",
    "\n",
    "print(f\"a area do circulo é de {Area}.\")\n"
   ],
   "id": "2fcab549ab8b64e3",
   "outputs": [
    {
     "name": "stdout",
     "output_type": "stream",
     "text": [
      "a area do circulo é de 314.159.\n"
     ]
    }
   ],
   "execution_count": 17
  },
  {
   "metadata": {
    "ExecuteTime": {
     "end_time": "2025-08-20T11:45:48.785953Z",
     "start_time": "2025-08-20T11:45:44.456410Z"
    }
   },
   "cell_type": "code",
   "source": [
    "#Pintura de parede\n",
    "\n",
    "Base = float(input(\"Digite a base da parede: \"))\n",
    "Pedireito = float(input(\"Digite a altura do Pe direito: \"))\n",
    "Area = Base * Pedireito\n",
    "Tinta = Area / 2\n",
    "\n",
    "print(f\"O total da tinta a ser utilizada para pintar uma parede de {Area}m² é de {Tinta}l.\")"
   ],
   "id": "d008c7692cfb26fe",
   "outputs": [
    {
     "name": "stdout",
     "output_type": "stream",
     "text": [
      "O total da tinta a ser utilizada para pintar uma parede de 40.0m² é de 20.0l.\n"
     ]
    }
   ],
   "execution_count": 23
  },
  {
   "metadata": {},
   "cell_type": "code",
   "outputs": [],
   "execution_count": null,
   "source": [
    "#IMC\n",
    "peso = float(input(\"Digite o peso em Kg: \"))\n",
    "altura = float(input(\"Digite sua altura: \"))\n",
    "IMC = peso / (altura * altura)\n",
    "\n",
    "print(f\"Seu IMC é de {IMC}\")"
   ],
   "id": "5075743ffa1f87e0"
  },
  {
   "metadata": {
    "ExecuteTime": {
     "end_time": "2025-08-20T14:14:54.919988Z",
     "start_time": "2025-08-20T14:14:48.414520Z"
    }
   },
   "cell_type": "code",
   "source": [
    "#Multiplos\n",
    "\n",
    "num1 = float(input(\"Digite o numero maior: \"))\n",
    "num2 = float(input(\"Digite o numero menor: \"))\n",
    "\n",
    "if num1 % num2 == 0:\n",
    "    print(\"São Multiplos\")\n",
    "else:\n",
    "    print(\"Não são multiplos\")"
   ],
   "id": "d3f3fb3c3e4da80",
   "outputs": [
    {
     "name": "stdout",
     "output_type": "stream",
     "text": [
      "Não são multiplos\n"
     ]
    }
   ],
   "execution_count": 47
  },
  {
   "metadata": {
    "ExecuteTime": {
     "end_time": "2025-08-20T11:55:07.097816Z",
     "start_time": "2025-08-20T11:55:00.913628Z"
    }
   },
   "cell_type": "code",
   "source": [
    "#Desconto em compras\n",
    "precoreal = float(input(\"Insira o valor do produto:\"))\n",
    "pdesconto = float(input(\"Insira o valor do desconto:\"))\n",
    "precoatual = precoreal - (precoreal * pdesconto)/100\n",
    "\n",
    "print(f\"Aplicando o o desconto, o novo valor do produto é de R${precoatual}.\")"
   ],
   "id": "f57bd362843b477e",
   "outputs": [
    {
     "name": "stdout",
     "output_type": "stream",
     "text": [
      "Aplicando o o desconto, o novo valor do produto é de R$90.0.\n"
     ]
    }
   ],
   "execution_count": 25
  },
  {
   "metadata": {
    "ExecuteTime": {
     "end_time": "2025-08-20T13:21:21.972951Z",
     "start_time": "2025-08-20T13:21:14.739974Z"
    }
   },
   "cell_type": "code",
   "source": [
    "#Aumento Salario\n",
    "\n",
    "salarioa = float(input(\"Digite o valor do salário atual: \"))\n",
    "aumento = float(input(\"Digite o valor do aumento: \"))\n",
    "nsalario = salarioa + (salarioa * aumento/100)\n",
    "\n",
    "print(f\"O novo salario é de R${nsalario}.\")"
   ],
   "id": "3f7b136e05730ca5",
   "outputs": [
    {
     "name": "stdout",
     "output_type": "stream",
     "text": [
      "O novo salario é de R$1150.0.\n"
     ]
    }
   ],
   "execution_count": 40
  },
  {
   "metadata": {
    "ExecuteTime": {
     "end_time": "2025-08-20T12:21:33.323314Z",
     "start_time": "2025-08-20T12:21:20.866817Z"
    }
   },
   "cell_type": "code",
   "source": [
    "#tempo de viagem\n",
    "\n",
    "Distancia = float(input(\"insira a distãncia: \"))\n",
    "Velocidade = (float(input(\"insira a velocidade: \")))\n",
    "Tempo = (Distancia / Velocidade)*60\n",
    "\n",
    "print(f\"O tempo de viagem é de: {Tempo: .2f}minutos.\")"
   ],
   "id": "2d4a0b44ed82aec7",
   "outputs": [
    {
     "name": "stdout",
     "output_type": "stream",
     "text": [
      "O tempo de viagem é de:  66.00minutos.\n"
     ]
    }
   ],
   "execution_count": 35
  },
  {
   "metadata": {
    "ExecuteTime": {
     "end_time": "2025-08-20T12:28:02.241404Z",
     "start_time": "2025-08-20T12:26:24.485035Z"
    }
   },
   "cell_type": "code",
   "source": [
    "#conta de luz\n",
    "kwh = float(input(\"Digite o valor do kwh: \"))\n",
    "valorkwh = float(input(\"Digite o valor do valor kwh: \"))\n",
    "gasto = kwh * valorkwh\n",
    "\n",
    "print(f\"Olá! Sua conta de luz chegou. O valor deste mês é de: R${gasto:.2f}.\")\n"
   ],
   "id": "118912d165d4bde0",
   "outputs": [
    {
     "name": "stdout",
     "output_type": "stream",
     "text": [
      "Olá! Sua conta de luz chegou. O valor deste mês é de: R$1440.00.\n"
     ]
    }
   ],
   "execution_count": 38
  },
  {
   "metadata": {
    "ExecuteTime": {
     "end_time": "2025-08-20T12:35:31.444363Z",
     "start_time": "2025-08-20T12:35:26.179390Z"
    }
   },
   "cell_type": "code",
   "source": [
    "#conversão em dinheiro\n",
    "moeda = float(input(\"Digite quanto você quer converter: \"))\n",
    "dolar = 5\n",
    "areceber = moeda * dolar\n",
    "\n",
    "print(f\"Boa tarde! O valor após a conversão é de R${areceber:.2f}.\")\n"
   ],
   "id": "85f345881e29fb3f",
   "outputs": [
    {
     "name": "stdout",
     "output_type": "stream",
     "text": [
      "Boa tarde! O valor após a conversão é de R$4135.00.\n"
     ]
    }
   ],
   "execution_count": 39
  },
  {
   "metadata": {
    "ExecuteTime": {
     "end_time": "2025-08-20T13:23:36.348451Z",
     "start_time": "2025-08-20T13:23:33.431463Z"
    }
   },
   "cell_type": "code",
   "source": [
    "#salario\n",
    "dias = int(input(\"Digite o numero de dias trabalhados: \"))\n",
    "horadia = 8\n",
    "salhora = 25\n",
    "salario = dias * horadia * salhora\n",
    "\n",
    "print(f\"O salário atual do funcionário é R${salario:.2f}.\")"
   ],
   "id": "68c653c8880be7cd",
   "outputs": [
    {
     "name": "stdout",
     "output_type": "stream",
     "text": [
      "O salário atual do funcionário é R$4800.00.\n"
     ]
    }
   ],
   "execution_count": 41
  },
  {
   "metadata": {
    "ExecuteTime": {
     "end_time": "2025-08-20T13:45:34.977279Z",
     "start_time": "2025-08-20T13:45:26.965414Z"
    }
   },
   "cell_type": "code",
   "source": [
    "#locadora\n",
    "kmp = float(input(\"Digite o valor do KM percorrido: \"))\n",
    "diasa = int(input(\"Digite o numero de dias alugados: \"))\n",
    "carrodia = 90\n",
    "kmrd = 0.20\n",
    "cobrar = (carrodia * diasa) + (kmp*kmrd)\n",
    "\n",
    "print(f\"Olá. O valor total a cobrar pelo aluguel do carro, em seus {diasa} de uso é de R${cobrar:.2f}.\")"
   ],
   "id": "f6870779883ccf00",
   "outputs": [
    {
     "name": "stdout",
     "output_type": "stream",
     "text": [
      "Olá. O valor total a cobrar pelo aluguel do carro, em seus 10 de aluguel é de R$945.00.\n"
     ]
    }
   ],
   "execution_count": 43
  },
  {
   "metadata": {
    "ExecuteTime": {
     "end_time": "2025-08-20T14:07:51.105992Z",
     "start_time": "2025-08-20T14:07:46.558898Z"
    }
   },
   "cell_type": "code",
   "source": [
    "#imposto\n",
    "\n",
    "cfab = float(input(\"Digite o valor do CF: \"))\n",
    "pd = 0.28\n",
    "imp = 0.45\n",
    "valorfinal = cfab + (cfab * pd) + (cfab * imp)\n",
    "\n",
    "print(f\"O valor do carro para o consumidor é de R${valorfinal:.2f}.\")"
   ],
   "id": "d74f31f8a2020bfc",
   "outputs": [
    {
     "name": "stdout",
     "output_type": "stream",
     "text": [
      "O valor do carro para o consumidor é de R$86500.00.\n"
     ]
    }
   ],
   "execution_count": 45
  }
 ],
 "metadata": {
  "kernelspec": {
   "display_name": "Python 3",
   "language": "python",
   "name": "python3"
  },
  "language_info": {
   "codemirror_mode": {
    "name": "ipython",
    "version": 2
   },
   "file_extension": ".py",
   "mimetype": "text/x-python",
   "name": "python",
   "nbconvert_exporter": "python",
   "pygments_lexer": "ipython2",
   "version": "2.7.6"
  }
 },
 "nbformat": 4,
 "nbformat_minor": 5
}
