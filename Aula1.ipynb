{
 "cells": [
  {
   "metadata": {
    "ExecuteTime": {
     "end_time": "2025-08-13T23:07:17.186738Z",
     "start_time": "2025-08-13T23:07:17.174428Z"
    }
   },
   "cell_type": "code",
   "source": [
    "print(\"Olá, Mundo!\")\n",
    "print(\"Sejam bem-vindos ao curso de Algoritimos!\")"
   ],
   "id": "e694466b3326c89c",
   "outputs": [
    {
     "name": "stdout",
     "output_type": "stream",
     "text": [
      "Olá, Mundo!\n",
      "Sejam bem-vindos ao curso de Algoritimos!\n"
     ]
    }
   ],
   "execution_count": 3
  },
  {
   "metadata": {
    "ExecuteTime": {
     "end_time": "2025-08-13T23:08:36.792090Z",
     "start_time": "2025-08-13T23:08:36.776537Z"
    }
   },
   "cell_type": "code",
   "source": [
    "nome = \"Leonardo\"\n",
    "Idade = 32\n",
    "print(\"Nome: \", nome)\n",
    "print(\"Idade: \", Idade)"
   ],
   "id": "158a3166761e6629",
   "outputs": [
    {
     "name": "stdout",
     "output_type": "stream",
     "text": [
      "Nome:  Leonardo\n",
      "Idade:  32\n"
     ]
    }
   ],
   "execution_count": 4
  },
  {
   "metadata": {
    "ExecuteTime": {
     "end_time": "2025-08-13T23:20:37.768893Z",
     "start_time": "2025-08-13T23:20:37.763898Z"
    }
   },
   "cell_type": "code",
   "source": [
    "'''utilizando f-strings'''\n",
    "nome = \"Leonardo\"\n",
    "Idade = 32\n",
    "nome = \"Leonardo\"\n",
    "Idade = 32\n",
    "print(f\"Olá! Seja bem-vindo, {nome} de {Idade}.\")"
   ],
   "id": "94c4651cf5cafd4f",
   "outputs": [
    {
     "name": "stdout",
     "output_type": "stream",
     "text": [
      "Olá! Seja bem-vindo, Leonardo de 32.\n"
     ]
    }
   ],
   "execution_count": 10
  },
  {
   "metadata": {
    "ExecuteTime": {
     "end_time": "2025-08-13T23:30:47.287037Z",
     "start_time": "2025-08-13T23:30:39.272198Z"
    }
   },
   "cell_type": "code",
   "source": [
    "#Entrada de dados: input()\n",
    "nome = input(\"Digite seu nome: \")\n",
    "idade = input(\"Digite sua idade: \")\n",
    "RA = int(\"1051\")\n",
    "\n",
    "print(f\"Caro aluno: {nome}, de {Idade} anos. Seu RA é o: {RA}.\")"
   ],
   "id": "fc9426a0b36b041b",
   "outputs": [
    {
     "name": "stdout",
     "output_type": "stream",
     "text": [
      "Caro aluno: Leonardo, de 32 anos. Seu RA é o: 1051.\n"
     ]
    }
   ],
   "execution_count": 21
  },
  {
   "metadata": {
    "ExecuteTime": {
     "end_time": "2025-08-14T00:16:32.677701Z",
     "start_time": "2025-08-14T00:16:24.883354Z"
    }
   },
   "cell_type": "code",
   "source": [
    "idade = int(input(\"Digite sua idade: \"))\n",
    "altura = float(input(\"Digite sua altura: \"))\n",
    "print(f\"Você tem {idade} anos e {altura} metros de altura.\")"
   ],
   "id": "3e494d8c3f6bb813",
   "outputs": [
    {
     "name": "stdout",
     "output_type": "stream",
     "text": [
      "Você tem 32 anos e 1.75 metros de altura.\n"
     ]
    }
   ],
   "execution_count": 24
  },
  {
   "metadata": {},
   "cell_type": "markdown",
   "source": "EXERCICIOS",
   "id": "51802459882b0921"
  },
  {
   "metadata": {
    "ExecuteTime": {
     "end_time": "2025-08-14T00:26:40.966086Z",
     "start_time": "2025-08-14T00:26:37.482948Z"
    }
   },
   "cell_type": "code",
   "source": [
    "#Salário\n",
    "nome = input(\"Nome do funcionário: \")\n",
    "salario = float(\"2200.00\")\n",
    "print(f\"Boa tarde, {nome}. Seu salário no valor de R${salario} acabou de cair. Aproveite!\")\n"
   ],
   "id": "99a747f2ecf43e4e",
   "outputs": [
    {
     "name": "stdout",
     "output_type": "stream",
     "text": [
      "Boa tarde, Leonardo. Seu salário no valor de R$2200.0 acabou de cair. Aproveite!\n"
     ]
    }
   ],
   "execution_count": 32
  },
  {
   "metadata": {
    "ExecuteTime": {
     "end_time": "2025-08-14T00:30:13.826885Z",
     "start_time": "2025-08-14T00:30:09.357714Z"
    }
   },
   "cell_type": "code",
   "source": [
    "#Calculadora\n",
    "num1 = float(input(\"Digite o primeiro numero: \"))\n",
    "num2 = float(input(\"Digite o segundo numero: \"))\n",
    "\n",
    "Soma = num1 + num2\n",
    "Subtracao = num1 - num2\n",
    "Multiplicacao = num1 * num2\n",
    "Divisao = num1 / num2\n",
    "\n",
    "print(f\"Soma: {Soma}\")\n",
    "print(f\"Subtracao: {Subtracao}\")\n",
    "print(f\"Multiplicacao: {Multiplicacao}\")\n",
    "print(f\"Divisao: {Divisao}\")"
   ],
   "id": "ed8d657833cf1112",
   "outputs": [
    {
     "name": "stdout",
     "output_type": "stream",
     "text": [
      "Soma: 5.0\n",
      "Subtracao: -1.0\n",
      "Multiplicacao: 6.0\n",
      "Divisao: 0.6666666666666666\n"
     ]
    }
   ],
   "execution_count": 33
  },
  {
   "metadata": {
    "ExecuteTime": {
     "end_time": "2025-08-14T00:44:46.682659Z",
     "start_time": "2025-08-14T00:44:39.632246Z"
    }
   },
   "cell_type": "code",
   "source": [
    "#Media\n",
    "num1 = float(input(\"Digite o primeiro numero: \"))\n",
    "num2 = float(input(\"Digite o segundo numero: \"))\n",
    "num3 = float(input(\"Digite o terceiro numero: \"))\n",
    "\n",
    "media = (num1 + num2 + num3) / 3\n",
    "print(f\"Sua média é: {media}.\")\n"
   ],
   "id": "ac66493245e524f1",
   "outputs": [
    {
     "name": "stdout",
     "output_type": "stream",
     "text": [
      "Sua média é: 6.0.\n"
     ]
    }
   ],
   "execution_count": 36
  },
  {
   "metadata": {
    "ExecuteTime": {
     "end_time": "2025-08-14T00:53:01.850369Z",
     "start_time": "2025-08-14T00:52:57.730514Z"
    }
   },
   "cell_type": "code",
   "source": [
    "#Operadores\n",
    "num = float(input(\"Digite o numero: \"))\n",
    "Dobro = num * 2\n",
    "Terco = num / 3\n",
    "print(f\"O dobro de {num} é {Dobro}.\")\n",
    "print(f\"Um terço de {num} é {Terco}.\")\n"
   ],
   "id": "f03f9873be7a496c",
   "outputs": [
    {
     "name": "stdout",
     "output_type": "stream",
     "text": [
      "O dobro de 10.0 é 20.0.\n",
      "Um terço de 10.0 é 3.3333333333333335.\n"
     ]
    }
   ],
   "execution_count": 1
  }
 ],
 "metadata": {
  "kernelspec": {
   "display_name": "Python 3",
   "language": "python",
   "name": "python3"
  },
  "language_info": {
   "codemirror_mode": {
    "name": "ipython",
    "version": 2
   },
   "file_extension": ".py",
   "mimetype": "text/x-python",
   "name": "python",
   "nbconvert_exporter": "python",
   "pygments_lexer": "ipython2",
   "version": "2.7.6"
  }
 },
 "nbformat": 4,
 "nbformat_minor": 5
}
